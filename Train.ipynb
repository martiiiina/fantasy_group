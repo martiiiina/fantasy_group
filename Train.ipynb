{
 "cells": [
  {
   "cell_type": "code",
   "execution_count": 1,
   "id": "d9a1dd4b",
   "metadata": {},
   "outputs": [],
   "source": [
    "from helpers import load_csv_data, create_csv_submission\n",
    "import numpy as np\n",
    "import matplotlib.pyplot as plt\n",
    "import seaborn as sns\n",
    "from common import batch_iter, sigmoid\n",
    "from mie import build_k_indices, cross_validation, logistic_loss, train_val_split, subsample_class\n",
    "from performance import accuracy, f1_score"
   ]
  },
  {
   "cell_type": "markdown",
   "id": "65b00692",
   "metadata": {},
   "source": [
    "Load data"
   ]
  },
  {
   "cell_type": "code",
   "execution_count": 2,
   "id": "0aaac3d3",
   "metadata": {},
   "outputs": [],
   "source": [
    "x_train_norm = np.load(\"processed/x_train.npy\")\n",
    "x_test_norm = np.load(\"processed/x_test.npy\")\n",
    "y_train = np.load(\"processed/y_train.npy\")\n",
    "test_ids = np.load(\"processed/test_ids.npy\")\n",
    "train_ids = np.load(\"processed/train_ids.npy\")"
   ]
  },
  {
   "cell_type": "markdown",
   "id": "9bc68a55",
   "metadata": {},
   "source": [
    "Logistic regression"
   ]
  },
  {
   "cell_type": "code",
   "execution_count": 3,
   "id": "6511b4bd",
   "metadata": {},
   "outputs": [],
   "source": [
    "# Split\n",
    "X_train, y_train, X_val, y_val = train_val_split(x_train_norm, y_train, val_ratio=0.2)\n",
    "\n",
    "# Subsampling\n",
    "X_bal, y_bal = subsample_class(X_train, y_train, target_ratio=1.0)\n"
   ]
  },
  {
   "cell_type": "markdown",
   "id": "ed8a68d3",
   "metadata": {},
   "source": [
    "Cross validation"
   ]
  },
  {
   "cell_type": "code",
   "execution_count": 4,
   "id": "4f09ed72",
   "metadata": {},
   "outputs": [],
   "source": [
    "k_fold=5\n",
    "k_indices=build_k_indices(y_bal, k_fold, seed=42)\n",
    "loss_val=[]\n",
    "loss_tr=[]\n",
    "ws=[]\n",
    "initial_w = np.zeros((X_bal.shape[1], 1))\n",
    "\n",
    "for k in range(k_fold):\n",
    "    w, loss_tr_tmp=cross_validation(y_bal, X_bal, k_indices, k, initial_w, max_iters=1000, gamma=0.001, lambda_=0.2)\n",
    "    loss_tr.append(loss_tr_tmp)\n",
    "    ws.append(w)\n",
    "    loss_val_tmp=logistic_loss(y_val, X_val, w)\n",
    "    loss_val.append(loss_val_tmp)\n",
    "    \n",
    "w_best=np.mean(ws, axis=0)"
   ]
  },
  {
   "cell_type": "markdown",
   "id": "e6de0883",
   "metadata": {},
   "source": [
    "Test"
   ]
  },
  {
   "cell_type": "code",
   "execution_count": 5,
   "id": "e080effd",
   "metadata": {},
   "outputs": [],
   "source": [
    "y_pred_prob = sigmoid(x_test_norm @ w_best)\n",
    "y_pred = np.where(y_pred_prob >= 0.5, 1, -1)\n",
    "\n",
    "create_csv_submission(test_ids, y_pred, 'Reg_Logistic_1')"
   ]
  }
 ],
 "metadata": {
  "kernelspec": {
   "display_name": "Python 3",
   "language": "python",
   "name": "python3"
  },
  "language_info": {
   "codemirror_mode": {
    "name": "ipython",
    "version": 3
   },
   "file_extension": ".py",
   "mimetype": "text/x-python",
   "name": "python",
   "nbconvert_exporter": "python",
   "pygments_lexer": "ipython3",
   "version": "3.10.0"
  }
 },
 "nbformat": 4,
 "nbformat_minor": 5
}
